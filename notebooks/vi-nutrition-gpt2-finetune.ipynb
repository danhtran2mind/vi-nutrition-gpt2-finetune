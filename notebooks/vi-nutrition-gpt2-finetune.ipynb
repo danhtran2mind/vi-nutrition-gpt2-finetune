{
 "cells": [
  {
   "cell_type": "markdown",
   "metadata": {},
   "source": [
    "# Setup Enviroments"
   ]
  },
  {
   "cell_type": "code",
   "execution_count": null,
   "metadata": {},
   "outputs": [],
   "source": [
    "import os\n",
    "if os.path.basename(os.getcwd()) == \"notebooks\":\n",
    "    os.chdir(\"..\")"
   ]
  },
  {
   "cell_type": "markdown",
   "metadata": {},
   "source": [
    "# Install Dependencies"
   ]
  },
  {
   "cell_type": "code",
   "execution_count": 1,
   "metadata": {
    "execution": {
     "iopub.execute_input": "2025-02-18T04:37:45.212378Z",
     "iopub.status.busy": "2025-02-18T04:37:45.212109Z",
     "iopub.status.idle": "2025-02-18T04:37:54.199048Z",
     "shell.execute_reply": "2025-02-18T04:37:54.198368Z",
     "shell.execute_reply.started": "2025-02-18T04:37:45.212356Z"
    },
    "trusted": true
   },
   "outputs": [],
   "source": [
    "import platform\n",
    "import subprocess\n",
    "\n",
    "system = platform.system()\n",
    "\n",
    "if system == \"Darwin\":\n",
    "    subprocess.run([\"brew\", \"install\", \"pkg-config\", \"poppler\", \"python\"])\n",
    "elif system == \"Windows\":\n",
    "    subprocess.run([\"conda\", \"install\", \"-c\", \"conda-forge\", \"poppler\"], shell=True)\n",
    "elif system == \"Linux\":\n",
    "    subprocess.run([\"sudo\", \"apt\", \"install\", \"build-essential\", \"libpoppler-cpp-dev\", \"pkg-config\", \"python3-dev\"])\n",
    "else:\n",
    "    try:\n",
    "        subprocess.run([\"sudo\", \"yum\", \"install\", \"gcc-c++\", \"pkgconfig\", \"poppler-cpp-devel\", \"python3-devel\"])\n",
    "    except Exception as e:\n",
    "        print(f\"Unknown OS: {e}\")"
   ]
  },
  {
   "cell_type": "code",
   "execution_count": 2,
   "metadata": {
    "execution": {
     "iopub.execute_input": "2025-02-18T04:37:54.200344Z",
     "iopub.status.busy": "2025-02-18T04:37:54.200128Z",
     "iopub.status.idle": "2025-02-18T04:38:20.604749Z",
     "shell.execute_reply": "2025-02-18T04:38:20.603844Z",
     "shell.execute_reply.started": "2025-02-18T04:37:54.200325Z"
    },
    "trusted": true
   },
   "outputs": [
    {
     "name": "stdout",
     "output_type": "stream",
     "text": [
      "\u001b[2K     \u001b[90m━━━━━━━━━━━━━━━━━━━━━━━━━━━━━━━━━━━━━━━━\u001b[0m \u001b[32m113.6/113.6 kB\u001b[0m \u001b[31m4.7 MB/s\u001b[0m eta \u001b[36m0:00:00\u001b[0m\n",
      "\u001b[?25h  Installing build dependencies ... \u001b[?25l\u001b[?25hdone\n",
      "  Getting requirements to build wheel ... \u001b[?25l\u001b[?25hdone\n",
      "  Preparing metadata (pyproject.toml) ... \u001b[?25l\u001b[?25hdone\n",
      "  Building wheel for pdftotext (pyproject.toml) ... \u001b[?25l\u001b[?25hdone\n",
      "\u001b[2K     \u001b[90m━━━━━━━━━━━━━━━━━━━━━━━━━━━━━━━━━━━━━━━━\u001b[0m \u001b[32m44.0/44.0 kB\u001b[0m \u001b[31m2.1 MB/s\u001b[0m eta \u001b[36m0:00:00\u001b[0m\n",
      "\u001b[2K   \u001b[90m━━━━━━━━━━━━━━━━━━━━━━━━━━━━━━━━━━━━━━━━\u001b[0m \u001b[32m10.0/10.0 MB\u001b[0m \u001b[31m78.8 MB/s\u001b[0m eta \u001b[36m0:00:00\u001b[0m:00:01\u001b[0m0:01\u001b[0m\n",
      "\u001b[2K   \u001b[90m━━━━━━━━━━━━━━━━━━━━━━━━━━━━━━━━━━━━━━━━\u001b[0m \u001b[32m342.1/342.1 kB\u001b[0m \u001b[31m8.0 MB/s\u001b[0m eta \u001b[36m0:00:00\u001b[0m:00:01\u001b[0m\n",
      "\u001b[?25h"
     ]
    }
   ],
   "source": [
    "!pip install -q requests pdftotext\n",
    "!pip install -q transformers -U\n",
    "!pip install -q accelerate -U"
   ]
  },
  {
   "cell_type": "code",
   "execution_count": 3,
   "metadata": {
    "_cell_guid": "b1076dfc-b9ad-4769-8c92-a6c4dae69d19",
    "_uuid": "8f2839f25d086af736a60e9eeb907d3b93b6e0e5",
    "execution": {
     "iopub.execute_input": "2025-02-18T04:38:20.606566Z",
     "iopub.status.busy": "2025-02-18T04:38:20.606279Z",
     "iopub.status.idle": "2025-02-18T04:38:20.610100Z",
     "shell.execute_reply": "2025-02-18T04:38:20.609462Z",
     "shell.execute_reply.started": "2025-02-18T04:38:20.606544Z"
    },
    "trusted": true
   },
   "outputs": [],
   "source": [
    "# import subprocess\n",
    "# import os\n",
    "# import glob\n",
    "# import shutil\n",
    "\n",
    "# os.makedirs(\"dataset\", exist_ok=True)\n",
    "# os.chdir(\"dataset\")\n",
    "\n",
    "# !git clone https://github.com/NTT123/viwik18.git\n",
    "# os.chdir(\"viwik18\")\n",
    "\n",
    "# !git checkout viwik19\n",
    "\n",
    "# with open('viwik19.txt', 'w') as outfile:\n",
    "#     for filename in ['dataset/viwik19_*']:\n",
    "#         for file in sorted(glob.glob(filename)):\n",
    "#             with open(file, 'r') as infile:\n",
    "#                 outfile.write(infile.read())\n",
    "# os.chdir(\"..\")\n",
    "# os.chdir(\"..\")\n",
    "\n",
    "# shutil.move(\"dataset/viwik18/viwik19.txt\", \"dataset\")\n",
    "\n",
    "# # Load your dataset\n",
    "# with open('dataset/viwik19.txt', 'r', encoding='utf-8') as file:\n",
    "#     full_text = file.read()"
   ]
  },
  {
   "cell_type": "code",
   "execution_count": 4,
   "metadata": {
    "execution": {
     "iopub.execute_input": "2025-02-18T04:38:20.611144Z",
     "iopub.status.busy": "2025-02-18T04:38:20.610963Z",
     "iopub.status.idle": "2025-02-18T04:38:20.637564Z",
     "shell.execute_reply": "2025-02-18T04:38:20.636885Z",
     "shell.execute_reply.started": "2025-02-18T04:38:20.611128Z"
    },
    "trusted": true
   },
   "outputs": [],
   "source": [
    "# full_text[:1000]"
   ]
  },
  {
   "cell_type": "markdown",
   "metadata": {},
   "source": [
    "## Download Dataset"
   ]
  },
  {
   "cell_type": "code",
   "execution_count": 5,
   "metadata": {
    "execution": {
     "iopub.execute_input": "2025-02-18T04:38:20.638469Z",
     "iopub.status.busy": "2025-02-18T04:38:20.638291Z",
     "iopub.status.idle": "2025-02-18T04:38:22.936551Z",
     "shell.execute_reply": "2025-02-18T04:38:22.935909Z",
     "shell.execute_reply.started": "2025-02-18T04:38:20.638453Z"
    },
    "trusted": true
   },
   "outputs": [],
   "source": [
    "import requests\n",
    "import pdftotext\n",
    "import re\n",
    "import os \n",
    "\n",
    "os.makedirs(\"dataset\", exist_ok=True)\n",
    "\n",
    "# Step 1: Download the PDF\n",
    "pdf_url = \"http://lib.yhn.edu.vn/bitstream/YHN/34769/1/Dung518.pdf\"\n",
    "response = requests.get(pdf_url)\n",
    "\n",
    "if response.status_code == 200:\n",
    "    with open(\"dataset/document.pdf\", \"wb\") as file:\n",
    "        file.write(response.content)\n",
    "else:\n",
    "    print(\"Failed to download PDF\")\n",
    "\n",
    "# Load your PDF\n",
    "with open(\"dataset/document.pdf\", \"rb\") as f:\n",
    "    pdf = pdftotext.PDF(f)\n",
    "\n",
    "content_text = \"\"\n",
    "\n",
    "# Iterate over all the pages\n",
    "for i in range(1, len(pdf)):\n",
    "    nonpagenumber_page = \"\\n\".join(pdf[i].split(\"\\n\")[:-3])\n",
    "    content_text += nonpagenumber_page\n",
    "\n",
    "# Remove the \"Bài X:\", \"Bài X:\", \"Bài X:\", \"X.\", \"X.Y\"\n",
    "content_text = re.sub(r'Bài \\d+:', '', content_text)\n",
    "content_text = re.sub(r'Bảng \\d+:', '', content_text)\n",
    "content_text = re.sub(r'Hình \\d+:', '', content_text)\n",
    "content_text = re.sub(r'(?<!\\s)\\n\\d+(?:\\.\\d+)*\\.?', '', content_text)  # Remove section numbers at start of line, but keep units\n",
    "content_text = re.sub(r'\\b\\d+(?:\\.\\d+)*\\b(?!(?:\\s*(?:g/ngày|mg/ngày|kcal/ngày|kcal|giờ|g|mg|ml|ltr|kg|ug|nl)))', '', content_text)  # Remove numbers that are not part of a unit\n",
    "\n",
    "with open('dataset/plain_content.txt', 'w', encoding='utf-8') as file:\n",
    "    file.write(content_text)"
   ]
  },
  {
   "cell_type": "code",
   "execution_count": 6,
   "metadata": {
    "execution": {
     "iopub.execute_input": "2025-02-18T04:38:22.937544Z",
     "iopub.status.busy": "2025-02-18T04:38:22.937332Z",
     "iopub.status.idle": "2025-02-18T04:38:22.941985Z",
     "shell.execute_reply": "2025-02-18T04:38:22.941004Z",
     "shell.execute_reply.started": "2025-02-18T04:38:22.937525Z"
    },
    "trusted": true
   },
   "outputs": [
    {
     "name": "stdout",
     "output_type": "stream",
     "text": [
      "hướng dẫn và nhanh chóng phục hồi. Xây dựng thực đơn\n",
      "Một số thực phẩm cần phải đưa vào thực đơn mà bệnh nhân khó chấp nhận thì\n",
      "nên đưa những thực phẩm mà bản chất thiên nhiên có chứa các thành phần dinh\n",
      "dưỡng, đến khi bệnh nhân quen rồi thì đưa ra chế độ ăn đề nghị. Sử dụng chế độ ăn\n",
      "quá nghiêm ngặt là điều nên tránh, giao tiếp hàng ngày giữa người bệnh và nhân viên y\n",
      "tế là điều nên làm. Khi trao đổi với bệnh nhân nên tránh dùng những từ ngữ như:\n",
      "nghiêm ngặt, nghiêm khắc, rất thấp…dễ gây ra sự sợ hãi hoặc khó chịu cho bệnh nhân\n",
      "nó sẽ ảnh hưởng đến sự chấp nhận bữa ăn. Hướng dẫn ăn uống cho người bệnh\n",
      "Bệnh nhân sẵn lòng thực hiện theo đơn thuốc hơn là thực đơn, một vài bệnh nhân\n",
      "không tuân thủ vì họ sẽ không tiếp thu hoặc không thể tiếp thu được hướng dẫn của\n",
      "thầy thuốc.\n",
      "Việc hướng dẫn sớm cho người bệnh ngay từ khi nhập viện sẽ giúp giảm sự khó\n",
      "chịu, sợ hãi nhưng lại tăng sự chấp nhận đối với bệnh nhân. Nội dung hướng dẫn nên\n",
      "tập trung vào các loại thực phẩm, các chất dinh dưỡng và chế\n"
     ]
    }
   ],
   "source": [
    "print(content_text[-3000:-2000])"
   ]
  },
  {
   "cell_type": "code",
   "execution_count": 7,
   "metadata": {
    "execution": {
     "iopub.execute_input": "2025-02-18T04:38:22.943218Z",
     "iopub.status.busy": "2025-02-18T04:38:22.942896Z",
     "iopub.status.idle": "2025-02-18T04:38:47.111522Z",
     "shell.execute_reply": "2025-02-18T04:38:47.110860Z",
     "shell.execute_reply.started": "2025-02-18T04:38:22.943188Z"
    },
    "trusted": true
   },
   "outputs": [],
   "source": [
    "import pandas as pd\n",
    "import numpy as np\n",
    "import random\n",
    "import torch\n",
    "import torch.nn.functional as F\n",
    "from torch.utils.data import Dataset, DataLoader\n",
    "from tqdm import tqdm, trange\n",
    "import csv\n",
    "import os\n",
    "import matplotlib.pyplot as plt\n",
    "from transformers import (\n",
    "    GPT2LMHeadModel,\n",
    "    GPT2Tokenizer,\n",
    "    TextDataset,\n",
    "    DataCollatorForLanguageModeling,\n",
    "    Trainer,\n",
    "    TrainingArguments,\n",
    "    AdamW,\n",
    "    get_linear_schedule_with_warmup\n",
    ")\n"
   ]
  },
  {
   "cell_type": "code",
   "execution_count": 8,
   "metadata": {
    "execution": {
     "iopub.execute_input": "2025-02-18T04:38:47.113910Z",
     "iopub.status.busy": "2025-02-18T04:38:47.113393Z",
     "iopub.status.idle": "2025-02-18T04:38:47.119730Z",
     "shell.execute_reply": "2025-02-18T04:38:47.118868Z",
     "shell.execute_reply.started": "2025-02-18T04:38:47.113889Z"
    },
    "trusted": true
   },
   "outputs": [],
   "source": [
    "def load_dataset(file_path, tokenizer, block_size=128):\n",
    "    dataset = TextDataset(\n",
    "        tokenizer=tokenizer,\n",
    "        file_path=file_path,\n",
    "        block_size=block_size,\n",
    "    )\n",
    "    return dataset\n",
    "\n",
    "def load_data_collator(tokenizer, mlm=False):\n",
    "    data_collator = DataCollatorForLanguageModeling(\n",
    "        tokenizer=tokenizer, \n",
    "        mlm=mlm,\n",
    "    )\n",
    "    return data_collator\n",
    "\n",
    "def train(train_file_path,\n",
    "          model_name,\n",
    "          output_dir,\n",
    "          overwrite_output_dir,\n",
    "          per_device_train_batch_size,\n",
    "          num_train_epochs,\n",
    "          save_steps,\n",
    "          logging_steps,\n",
    "          block_size=128):\n",
    "    tokenizer = GPT2Tokenizer.from_pretrained(model_name)\n",
    "    train_dataset = load_dataset(train_file_path, tokenizer, block_size=block_size)\n",
    "    data_collator = load_data_collator(tokenizer)\n",
    "\n",
    "    tokenizer.save_pretrained(output_dir)\n",
    "\n",
    "    model = GPT2LMHeadModel.from_pretrained(model_name)\n",
    "\n",
    "    model.save_pretrained(output_dir)\n",
    "    device = torch.device(\"cuda\" if torch.cuda.is_available() else \"cpu\")\n",
    "    training_args = TrainingArguments(\n",
    "        output_dir=output_dir,\n",
    "        overwrite_output_dir=overwrite_output_dir,\n",
    "        per_device_train_batch_size=per_device_train_batch_size,\n",
    "        num_train_epochs=num_train_epochs,\n",
    "        save_steps=save_steps,\n",
    "        logging_steps=logging_steps\n",
    "    )\n",
    "    model.to(device)\n",
    "    \n",
    "    trainer = Trainer(\n",
    "        model=model,\n",
    "        args=training_args,\n",
    "        data_collator=data_collator,\n",
    "        train_dataset=train_dataset,\n",
    "    )\n",
    "\n",
    "    trainer.train()\n",
    "    trainer.save_model()\n",
    "\n",
    "    return trainer"
   ]
  },
  {
   "cell_type": "code",
   "execution_count": 9,
   "metadata": {
    "execution": {
     "iopub.execute_input": "2025-02-18T04:38:47.121096Z",
     "iopub.status.busy": "2025-02-18T04:38:47.120842Z",
     "iopub.status.idle": "2025-02-18T04:38:54.353837Z",
     "shell.execute_reply": "2025-02-18T04:38:54.353161Z",
     "shell.execute_reply.started": "2025-02-18T04:38:47.121066Z"
    },
    "trusted": true
   },
   "outputs": [
    {
     "data": {
      "application/vnd.jupyter.widget-view+json": {
       "model_id": "7284f2884a5b47fd8393a50eeb95896a",
       "version_major": 2,
       "version_minor": 0
      },
      "text/plain": [
       "tokenizer_config.json:   0%|          | 0.00/215 [00:00<?, ?B/s]"
      ]
     },
     "metadata": {},
     "output_type": "display_data"
    },
    {
     "data": {
      "application/vnd.jupyter.widget-view+json": {
       "model_id": "93f13d9e7bc14a3fb4ad7250038758b0",
       "version_major": 2,
       "version_minor": 0
      },
      "text/plain": [
       "vocab.json:   0%|          | 0.00/854k [00:00<?, ?B/s]"
      ]
     },
     "metadata": {},
     "output_type": "display_data"
    },
    {
     "data": {
      "application/vnd.jupyter.widget-view+json": {
       "model_id": "eec12173aae448e4b852a3d38221a47d",
       "version_major": 2,
       "version_minor": 0
      },
      "text/plain": [
       "merges.txt:   0%|          | 0.00/512k [00:00<?, ?B/s]"
      ]
     },
     "metadata": {},
     "output_type": "display_data"
    },
    {
     "data": {
      "application/vnd.jupyter.widget-view+json": {
       "model_id": "af5ee433fbb54c1bbd01c131f16cea2d",
       "version_major": 2,
       "version_minor": 0
      },
      "text/plain": [
       "added_tokens.json:   0%|          | 0.00/24.0 [00:00<?, ?B/s]"
      ]
     },
     "metadata": {},
     "output_type": "display_data"
    },
    {
     "data": {
      "application/vnd.jupyter.widget-view+json": {
       "model_id": "9d72a39ef2a94a5c86d139b59f670ea3",
       "version_major": 2,
       "version_minor": 0
      },
      "text/plain": [
       "special_tokens_map.json:   0%|          | 0.00/90.0 [00:00<?, ?B/s]"
      ]
     },
     "metadata": {},
     "output_type": "display_data"
    },
    {
     "data": {
      "application/vnd.jupyter.widget-view+json": {
       "model_id": "763d01a76c3a49f6af3206a7d606a7f9",
       "version_major": 2,
       "version_minor": 0
      },
      "text/plain": [
       "tokenizer.json:   0%|          | 0.00/2.22M [00:00<?, ?B/s]"
      ]
     },
     "metadata": {},
     "output_type": "display_data"
    },
    {
     "data": {
      "application/vnd.jupyter.widget-view+json": {
       "model_id": "32544205496441aab588976e283f7217",
       "version_major": 2,
       "version_minor": 0
      },
      "text/plain": [
       "config.json:   0%|          | 0.00/884 [00:00<?, ?B/s]"
      ]
     },
     "metadata": {},
     "output_type": "display_data"
    },
    {
     "data": {
      "application/vnd.jupyter.widget-view+json": {
       "model_id": "26a68b19cbe942379cce9c0b01fbf40c",
       "version_major": 2,
       "version_minor": 0
      },
      "text/plain": [
       "pytorch_model.bin:   0%|          | 0.00/510M [00:00<?, ?B/s]"
      ]
     },
     "metadata": {},
     "output_type": "display_data"
    }
   ],
   "source": [
    "tokenizer = GPT2Tokenizer.from_pretrained(\"NlpHUST/gpt2-vietnamese\")\n",
    "model = GPT2LMHeadModel.from_pretrained(\"NlpHUST/gpt2-vietnamese\")    \n",
    "train_file_path = \"dataset/plain_content.txt\"\n",
    "model_name = \"NlpHUST/gpt2-vietnamese\"\n",
    "output_dir = \"vi-nutrition-gpt2-finetune\"\n",
    "overwrite_output_dir = True\n",
    "per_device_train_batch_size = 48\n",
    "block_size = 128\n",
    "num_train_epochs = 3000\n",
    "save_steps = 5000\n",
    "logging_steps = 1000"
   ]
  },
  {
   "cell_type": "code",
   "execution_count": 10,
   "metadata": {
    "execution": {
     "iopub.execute_input": "2025-02-18T04:38:54.354945Z",
     "iopub.status.busy": "2025-02-18T04:38:54.354659Z",
     "iopub.status.idle": "2025-02-18T04:38:54.358724Z",
     "shell.execute_reply": "2025-02-18T04:38:54.357935Z",
     "shell.execute_reply.started": "2025-02-18T04:38:54.354915Z"
    },
    "trusted": true
   },
   "outputs": [],
   "source": [
    "# Disable WANDB logging\n",
    "os.environ[\"WANDB_DISABLED\"] = \"true\""
   ]
  },
  {
   "cell_type": "code",
   "execution_count": 11,
   "metadata": {
    "execution": {
     "iopub.execute_input": "2025-02-18T04:38:54.359924Z",
     "iopub.status.busy": "2025-02-18T04:38:54.359678Z",
     "iopub.status.idle": "2025-02-18T11:14:22.880675Z",
     "shell.execute_reply": "2025-02-18T11:14:22.879545Z",
     "shell.execute_reply.started": "2025-02-18T04:38:54.359905Z"
    },
    "trusted": true
   },
   "outputs": [
    {
     "name": "stderr",
     "output_type": "stream",
     "text": [
      "/usr/local/lib/python3.10/dist-packages/transformers/data/datasets/language_modeling.py:53: FutureWarning: This dataset will be removed from the library soon, preprocessing should be handled with the 🤗 Datasets library. You can have a look at this example script for pointers: https://github.com/huggingface/transformers/blob/main/examples/pytorch/language-modeling/run_mlm.py\n",
      "  warnings.warn(\n"
     ]
    },
    {
     "data": {
      "application/vnd.jupyter.widget-view+json": {
       "model_id": "f70f28c226be46b593752ebee8eaf3a5",
       "version_major": 2,
       "version_minor": 0
      },
      "text/plain": [
       "model.safetensors:   0%|          | 0.00/510M [00:00<?, ?B/s]"
      ]
     },
     "metadata": {},
     "output_type": "display_data"
    },
    {
     "name": "stderr",
     "output_type": "stream",
     "text": [
      "Using the `WANDB_DISABLED` environment variable is deprecated and will be removed in v5. Use the --report_to flag to control the integrations used for logging result (for instance --report_to none).\n",
      "`loss_type=None` was set in the config but it is unrecognised.Using the default loss: `ForCausalLMLoss`.\n"
     ]
    },
    {
     "data": {
      "text/html": [
       "\n",
       "    <div>\n",
       "      \n",
       "      <progress value='30000' max='30000' style='width:300px; height:20px; vertical-align: middle;'></progress>\n",
       "      [30000/30000 6:35:21, Epoch 3000/3000]\n",
       "    </div>\n",
       "    <table border=\"1\" class=\"dataframe\">\n",
       "  <thead>\n",
       " <tr style=\"text-align: left;\">\n",
       "      <th>Step</th>\n",
       "      <th>Training Loss</th>\n",
       "    </tr>\n",
       "  </thead>\n",
       "  <tbody>\n",
       "    <tr>\n",
       "      <td>1000</td>\n",
       "      <td>0.913200</td>\n",
       "    </tr>\n",
       "    <tr>\n",
       "      <td>2000</td>\n",
       "      <td>0.015000</td>\n",
       "    </tr>\n",
       "    <tr>\n",
       "      <td>3000</td>\n",
       "      <td>0.009300</td>\n",
       "    </tr>\n",
       "    <tr>\n",
       "      <td>4000</td>\n",
       "      <td>0.008400</td>\n",
       "    </tr>\n",
       "    <tr>\n",
       "      <td>5000</td>\n",
       "      <td>0.008100</td>\n",
       "    </tr>\n",
       "    <tr>\n",
       "      <td>6000</td>\n",
       "      <td>0.010100</td>\n",
       "    </tr>\n",
       "    <tr>\n",
       "      <td>7000</td>\n",
       "      <td>0.007700</td>\n",
       "    </tr>\n",
       "    <tr>\n",
       "      <td>8000</td>\n",
       "      <td>0.007600</td>\n",
       "    </tr>\n",
       "    <tr>\n",
       "      <td>9000</td>\n",
       "      <td>0.007600</td>\n",
       "    </tr>\n",
       "    <tr>\n",
       "      <td>10000</td>\n",
       "      <td>0.007500</td>\n",
       "    </tr>\n",
       "    <tr>\n",
       "      <td>11000</td>\n",
       "      <td>0.007500</td>\n",
       "    </tr>\n",
       "    <tr>\n",
       "      <td>12000</td>\n",
       "      <td>0.007400</td>\n",
       "    </tr>\n",
       "    <tr>\n",
       "      <td>13000</td>\n",
       "      <td>0.007400</td>\n",
       "    </tr>\n",
       "    <tr>\n",
       "      <td>14000</td>\n",
       "      <td>0.007400</td>\n",
       "    </tr>\n",
       "    <tr>\n",
       "      <td>15000</td>\n",
       "      <td>0.007300</td>\n",
       "    </tr>\n",
       "    <tr>\n",
       "      <td>16000</td>\n",
       "      <td>0.007300</td>\n",
       "    </tr>\n",
       "    <tr>\n",
       "      <td>17000</td>\n",
       "      <td>0.007200</td>\n",
       "    </tr>\n",
       "    <tr>\n",
       "      <td>18000</td>\n",
       "      <td>0.007200</td>\n",
       "    </tr>\n",
       "    <tr>\n",
       "      <td>19000</td>\n",
       "      <td>0.007200</td>\n",
       "    </tr>\n",
       "    <tr>\n",
       "      <td>20000</td>\n",
       "      <td>0.007200</td>\n",
       "    </tr>\n",
       "    <tr>\n",
       "      <td>21000</td>\n",
       "      <td>0.007100</td>\n",
       "    </tr>\n",
       "    <tr>\n",
       "      <td>22000</td>\n",
       "      <td>0.007100</td>\n",
       "    </tr>\n",
       "    <tr>\n",
       "      <td>23000</td>\n",
       "      <td>0.007100</td>\n",
       "    </tr>\n",
       "    <tr>\n",
       "      <td>24000</td>\n",
       "      <td>0.007100</td>\n",
       "    </tr>\n",
       "    <tr>\n",
       "      <td>25000</td>\n",
       "      <td>0.007100</td>\n",
       "    </tr>\n",
       "    <tr>\n",
       "      <td>26000</td>\n",
       "      <td>0.007000</td>\n",
       "    </tr>\n",
       "    <tr>\n",
       "      <td>27000</td>\n",
       "      <td>0.007000</td>\n",
       "    </tr>\n",
       "    <tr>\n",
       "      <td>28000</td>\n",
       "      <td>0.007000</td>\n",
       "    </tr>\n",
       "    <tr>\n",
       "      <td>29000</td>\n",
       "      <td>0.007000</td>\n",
       "    </tr>\n",
       "    <tr>\n",
       "      <td>30000</td>\n",
       "      <td>0.007000</td>\n",
       "    </tr>\n",
       "  </tbody>\n",
       "</table><p>"
      ],
      "text/plain": [
       "<IPython.core.display.HTML object>"
      ]
     },
     "metadata": {},
     "output_type": "display_data"
    }
   ],
   "source": [
    "# Training with an H100 GPU on Kaggle takes around 6 hours 30 minutes.\n",
    "trainer_output = train(\n",
    "                train_file_path=train_file_path,\n",
    "                block_size=block_size,\n",
    "                model_name=model_name,\n",
    "                output_dir=output_dir,\n",
    "                overwrite_output_dir=overwrite_output_dir,\n",
    "                per_device_train_batch_size=per_device_train_batch_size,\n",
    "                num_train_epochs=num_train_epochs,\n",
    "                save_steps=save_steps,\n",
    "                logging_steps=logging_steps\n",
    "                )"
   ]
  },
  {
   "cell_type": "code",
   "execution_count": 15,
   "metadata": {
    "execution": {
     "iopub.execute_input": "2025-02-18T11:14:23.952263Z",
     "iopub.status.busy": "2025-02-18T11:14:23.951987Z",
     "iopub.status.idle": "2025-02-18T11:14:24.405214Z",
     "shell.execute_reply": "2025-02-18T11:14:24.404310Z",
     "shell.execute_reply.started": "2025-02-18T11:14:23.952240Z"
    },
    "trusted": true
   },
   "outputs": [
    {
     "data": {
      "image/png": "[encoded data removed]",
      "text/plain": [
       "<Figure size 1200x600 with 2 Axes>"
      ]
     },
     "metadata": {},
     "output_type": "display_data"
    }
   ],
   "source": [
    "# Plot the training history\n",
    "def plot_history(df_history):\n",
    "    # Create a shared x-axis with both step and epoch\n",
    "    fig, ax1 = plt.subplots(figsize=(12, 6))\n",
    "\n",
    "    # Plot loss per step\n",
    "    ax1.plot(df_history['step'], df_history['loss'], marker='o', linestyle='-', color='b', label='Loss per Step')\n",
    "    ax1.set_xlabel('Step')\n",
    "    ax1.set_ylabel('Loss', color='b')\n",
    "    ax1.tick_params(axis='y', labelcolor='b')\n",
    "    ax1.set_title('Loss per Step and Epoch')\n",
    "    ax1.grid(True)\n",
    "\n",
    "    # Create a twin axis for epoch\n",
    "    ax2 = ax1.twiny()\n",
    "    ax2.plot(df_history['epoch'], df_history['loss'], marker='o', linestyle='--', color='r', label='Loss per Epoch')\n",
    "    ax2.set_xlabel('Epoch', color='r')\n",
    "    ax2.tick_params(axis='x', labelcolor='r')\n",
    "\n",
    "    # Add a legend\n",
    "    fig.legend(loc='upper right', bbox_to_anchor=(1, 1), bbox_transform=ax1.transAxes)\n",
    "\n",
    "    # Show the plot\n",
    "    plt.tight_layout()\n",
    "    plt.show()\n",
    "\n",
    "history = pd.DataFrame(trainer_output.state.log_history)\n",
    "plot_history(history)"
   ]
  },
  {
   "cell_type": "code",
   "execution_count": 16,
   "metadata": {
    "execution": {
     "iopub.execute_input": "2025-02-18T11:14:47.653988Z",
     "iopub.status.busy": "2025-02-18T11:14:47.653682Z",
     "iopub.status.idle": "2025-02-18T11:14:48.014147Z",
     "shell.execute_reply": "2025-02-18T11:14:48.013232Z",
     "shell.execute_reply.started": "2025-02-18T11:14:47.653966Z"
    },
    "trusted": true
   },
   "outputs": [],
   "source": [
    "import re\n",
    "import torch\n",
    "from transformers import GPT2Tokenizer, GPT2LMHeadModel\n",
    "\n",
    "def load_model_and_tokenizer(output_dir):\n",
    "    # Load the trained tokenizer\n",
    "    tokenizer = GPT2Tokenizer.from_pretrained(output_dir)\n",
    "    \n",
    "    # Load the trained model\n",
    "    model = GPT2LMHeadModel.from_pretrained(output_dir)\n",
    "    \n",
    "    # Move the model to the GPU if available\n",
    "    device = torch.device(\"cuda\" if torch.cuda.is_available() else \"cpu\")\n",
    "    model.to(device)\n",
    "    \n",
    "    return tokenizer, model, device\n",
    "\n",
    "def generate_text(tokenizer, model, device, prompt, max_length=100,\n",
    "                  num_return_sequences=1, top_p=0.95, temperature=0.7,):\n",
    "    # Tokenize the input prompt\n",
    "    input_ids = tokenizer.encode(prompt, return_tensors='pt').to(device)\n",
    "    \n",
    "    # Generate text\n",
    "    output = model.generate(\n",
    "        input_ids,\n",
    "        max_length=max_length,\n",
    "        num_return_sequences=num_return_sequences,\n",
    "        no_repeat_ngram_size=2,\n",
    "        top_k=50,\n",
    "        top_p=top_p,\n",
    "        temperature=temperature,\n",
    "        do_sample=True\n",
    "    )\n",
    "    \n",
    "    # Convert the generated text back to a string\n",
    "    generated_text = [tokenizer.decode(ids, skip_special_tokens=True) for ids in output]\n",
    "    \n",
    "    return generated_text\n",
    "\n",
    "# Load the trained model and tokenizer\n",
    "output_dir = \"vi-nutrition-gpt2-finetune\"\n",
    "tokenizer, model, device = load_model_and_tokenizer(output_dir)"
   ]
  },
  {
   "cell_type": "code",
   "execution_count": 33,
   "metadata": {
    "execution": {
     "iopub.execute_input": "2025-02-18T11:28:37.332778Z",
     "iopub.status.busy": "2025-02-18T11:28:37.332449Z",
     "iopub.status.idle": "2025-02-18T11:28:38.834761Z",
     "shell.execute_reply": "2025-02-18T11:28:38.833964Z",
     "shell.execute_reply.started": "2025-02-18T11:28:37.332752Z"
    },
    "trusted": true
   },
   "outputs": [
    {
     "name": "stderr",
     "output_type": "stream",
     "text": [
      "The attention mask and the pad token id were not set. As a consequence, you may observe unexpected behavior. Please pass your input's `attention_mask` to obtain reliable results.\n",
      "Setting `pad_token_id` to `eos_token_id`:50256 for open-end generation.\n"
     ]
    },
    {
     "name": "stdout",
     "output_type": "stream",
     "text": [
      "Generated Text:\n",
      "\n",
      "Nhờ các phát hiện của dinh dưỡng học cho thấy thức ăn có chứa các thành phần dinh dưỡng cần thiết đối với cơ thể đó là protit, lipit, gluxit, các vitamin, chất khoáng và nước.\n",
      "- no chất dinhdưỡng mà cơthể không tự tổnghợp được hay tổng hợp không rõ\n",
      "điểm đólà các acid amin cầnthiết, đường gluco dài đẳngphức hợp, vitamin và\n",
      "khoáng chất.no các chất sinh hóađó là thựcphẩm,nước uống.Hiện nay thứcăn có nhiều propan,\n",
      "phộng vị và chất béo đang được sử dụngthay cho thứcuống là thứcno điểm, protin đangđược giữ ởdạng\n",
      "khoảng trắng, vì vậy cơhội cho các loại chấtchất béo ở vùng xa xuống làkhông có. Ở ViệtNam cơ hội cho chất chấtdần íthơn là không nhiều. Dođó cầncó cácchương trình, chính sách thu hútvà sử lý cóhiệu quả các ưu đãi về tài chính\n"
     ]
    }
   ],
   "source": [
    "# Define the prompt for text generation\n",
    "prompt = \"Nhờ các phát hiện của dinh dưỡng học cho thấy thức ăn có chứa các thành phần dinh dưỡng cần thiết đối với cơ thể đó là protit, lipit, gluxit, các vitamin, chất khoáng và nước.\"\n",
    "# Generate text\n",
    "generated_text = generate_text(tokenizer, model, device, prompt, max_length=200, num_return_sequences=1)\n",
    "\n",
    "# Print the generated text\n",
    "print(\"Generated Text:\\n\")\n",
    "print(re.sub(\"-\\n+\", \"- \", generated_text[0]))"
   ]
  },
  {
   "cell_type": "code",
   "execution_count": 32,
   "metadata": {
    "execution": {
     "iopub.execute_input": "2025-02-18T11:28:21.273968Z",
     "iopub.status.busy": "2025-02-18T11:28:21.273610Z",
     "iopub.status.idle": "2025-02-18T11:28:23.008207Z",
     "shell.execute_reply": "2025-02-18T11:28:23.007438Z",
     "shell.execute_reply.started": "2025-02-18T11:28:21.273945Z"
    },
    "trusted": true
   },
   "outputs": [
    {
     "name": "stderr",
     "output_type": "stream",
     "text": [
      "The attention mask and the pad token id were not set. As a consequence, you may observe unexpected behavior. Please pass your input's `attention_mask` to obtain reliable results.\n",
      "Setting `pad_token_id` to `eos_token_id`:50256 for open-end generation.\n"
     ]
    },
    {
     "name": "stdout",
     "output_type": "stream",
     "text": [
      "Generated Text:\n",
      "\n",
      "Mỗi ngày, mỗi người cần ăn đủ protit, lipit, gluxit. Protit là dạng dịch thể của các tế bào, cơ thể\n",
      "chuyển hóa chúng thành protin, prolexin để duy trì trạng thái cân bằng của cơ thế\n",
      "- Vitamin: Mỗi loại vitamin có vai trò riêng, có thể kể ra một số các\n",
      " ích tác động đến chức năng sinh lý của cả hai phía. Thứ nhất, vitamin\n",
      "ngăn ngừa sự giảm sút của tuổi già. Nguyên tắc thứ hai là vitamin phải được cung cấp\n",
      "trực tiếp, gián tiếp thông qua các thức ăn, nước uống, giao tiếp qua ăn. Thiếu\n",
      "thì thức uống phải là thực phẩm suy nhược, đôi khi có tính chất gây nghiện. Do đó, khi bổ\n",
      "sung các vitamin vào thực đơn của cánh mày dâu phải cân đối, kỹ càng, tránh tình trạng\n",
      "ăn nhiều mà không có đủ vitamin.\n",
      "Bên cạnh đó phải cung ứng đủ các chất dinh dưỡng cần thiết cho cơ\n"
     ]
    }
   ],
   "source": [
    "# Define the prompt for text generation\n",
    "prompt = \"Mỗi ngày, mỗi người cần ăn đủ protit, lipit, gluxit.\"\n",
    "# Generate text\n",
    "generated_text = generate_text(tokenizer, model, device, prompt,\n",
    "                               max_length=200, num_return_sequences=1,\n",
    "                               top_p=0.9, temperature=0.5\n",
    "                              )\n",
    "\n",
    "# Print the generated text\n",
    "print(\"Generated Text:\\n\")\n",
    "print(re.sub(\"-\\n+\", \"- \", generated_text[0]))"
   ]
  },
  {
   "cell_type": "code",
   "execution_count": 30,
   "metadata": {
    "execution": {
     "iopub.execute_input": "2025-02-18T11:25:59.771601Z",
     "iopub.status.busy": "2025-02-18T11:25:59.771272Z",
     "iopub.status.idle": "2025-02-18T11:27:36.975450Z",
     "shell.execute_reply": "2025-02-18T11:27:36.974556Z",
     "shell.execute_reply.started": "2025-02-18T11:25:59.771574Z"
    },
    "trusted": true
   },
   "outputs": [
    {
     "name": "stdout",
     "output_type": "stream",
     "text": [
      "  adding: dataset/ (stored 0%)\n",
      "  adding: dataset/cached_lm_GPT2Tokenizer_128_plain_content.txt.lock (stored 0%)\n",
      "  adding: dataset/plain_content.txt (deflated 71%)\n",
      "  adding: dataset/document.pdf (deflated 15%)\n",
      "  adding: dataset/cached_lm_GPT2Tokenizer_128_plain_content.txt (deflated 56%)\n",
      "  adding: vi-nutrition-gpt2-finetune/ (stored 0%)\n",
      "  adding: vi-nutrition-gpt2-finetune/model.safetensors (deflated 7%)\n",
      "  adding: vi-nutrition-gpt2-finetune/training_args.bin (deflated 52%)\n",
      "  adding: vi-nutrition-gpt2-finetune/special_tokens_map.json (deflated 75%)\n",
      "  adding: vi-nutrition-gpt2-finetune/added_tokens.json (stored 0%)\n",
      "  adding: vi-nutrition-gpt2-finetune/checkpoint-30000/ (stored 0%)\n",
      "  adding: vi-nutrition-gpt2-finetune/checkpoint-30000/trainer_state.json (deflated 79%)\n",
      "  adding: vi-nutrition-gpt2-finetune/checkpoint-30000/model.safetensors (deflated 7%)\n",
      "  adding: vi-nutrition-gpt2-finetune/checkpoint-30000/training_args.bin (deflated 52%)\n",
      "  adding: vi-nutrition-gpt2-finetune/checkpoint-30000/optimizer.pt (deflated 7%)\n",
      "  adding: vi-nutrition-gpt2-finetune/checkpoint-30000/rng_state.pth (deflated 25%)\n",
      "  adding: vi-nutrition-gpt2-finetune/checkpoint-30000/config.json (deflated 50%)\n",
      "  adding: vi-nutrition-gpt2-finetune/checkpoint-30000/generation_config.json (deflated 24%)\n",
      "  adding: vi-nutrition-gpt2-finetune/checkpoint-30000/scheduler.pt (deflated 56%)\n",
      "  adding: vi-nutrition-gpt2-finetune/config.json (deflated 50%)\n",
      "  adding: vi-nutrition-gpt2-finetune/generation_config.json (deflated 24%)\n",
      "  adding: vi-nutrition-gpt2-finetune/merges.txt (deflated 58%)\n",
      "  adding: vi-nutrition-gpt2-finetune/runs/ (stored 0%)\n",
      "  adding: vi-nutrition-gpt2-finetune/runs/Feb18_04-38-57_c9d5884917ae/ (stored 0%)\n",
      "  adding: vi-nutrition-gpt2-finetune/runs/Feb18_04-38-57_c9d5884917ae/events.out.tfevents.1739853538.c9d5884917ae.31.0 (deflated 64%)\n",
      "  adding: vi-nutrition-gpt2-finetune/tokenizer_config.json (deflated 78%)\n",
      "  adding: vi-nutrition-gpt2-finetune/vocab.json (deflated 69%)\n"
     ]
    }
   ],
   "source": [
    "!zip -r download.zip dataset vi-nutrition-gpt2-finetune"
   ]
  },
  {
   "cell_type": "code",
   "execution_count": 34,
   "metadata": {
    "execution": {
     "iopub.execute_input": "2025-02-18T12:01:59.915543Z",
     "iopub.status.busy": "2025-02-18T12:01:59.915215Z",
     "iopub.status.idle": "2025-02-18T12:01:59.921055Z",
     "shell.execute_reply": "2025-02-18T12:01:59.920142Z",
     "shell.execute_reply.started": "2025-02-18T12:01:59.915519Z"
    },
    "trusted": true
   },
   "outputs": [
    {
     "name": "stdout",
     "output_type": "stream",
     "text": [
      "/kaggle/working/vi-nutrition-gpt2-finetune\n"
     ]
    }
   ],
   "source": [
    "%cd /kaggle/working/vi-nutrition-gpt2-finetune"
   ]
  },
  {
   "cell_type": "code",
   "execution_count": 35,
   "metadata": {
    "execution": {
     "iopub.execute_input": "2025-02-18T12:02:05.088359Z",
     "iopub.status.busy": "2025-02-18T12:02:05.088057Z",
     "iopub.status.idle": "2025-02-18T12:02:05.253406Z",
     "shell.execute_reply": "2025-02-18T12:02:05.252530Z",
     "shell.execute_reply.started": "2025-02-18T12:02:05.088335Z"
    },
    "trusted": true
   },
   "outputs": [
    {
     "name": "stdout",
     "output_type": "stream",
     "text": [
      "total 487680\n",
      "-rw-r--r-- 1 root root        29 Feb 18 04:38 added_tokens.json\n",
      "drwxr-xr-x 2 root root      4096 Feb 18 11:14 checkpoint-30000\n",
      "-rw-r--r-- 1 root root       926 Feb 18 11:14 config.json\n",
      "-rw-r--r-- 1 root root       119 Feb 18 11:14 generation_config.json\n",
      "-rw-r--r-- 1 root root    511984 Feb 18 04:38 merges.txt\n",
      "-rw-r--r-- 1 root root 497774208 Feb 18 11:14 model.safetensors\n",
      "drwxr-xr-x 3 root root      4096 Feb 18 04:38 runs\n",
      "-rw-r--r-- 1 root root       441 Feb 18 04:38 special_tokens_map.json\n",
      "-rw-r--r-- 1 root root      1406 Feb 18 04:38 tokenizer_config.json\n",
      "-rw-r--r-- 1 root root      5368 Feb 18 11:14 training_args.bin\n",
      "-rw-r--r-- 1 root root   1054800 Feb 18 04:38 vocab.json\n"
     ]
    }
   ],
   "source": [
    "!ls -l"
   ]
  },
  {
   "cell_type": "code",
   "execution_count": 31,
   "metadata": {
    "execution": {
     "iopub.execute_input": "2025-02-18T11:27:50.931370Z",
     "iopub.status.busy": "2025-02-18T11:27:50.931053Z",
     "iopub.status.idle": "2025-02-18T11:27:50.937693Z",
     "shell.execute_reply": "2025-02-18T11:27:50.936995Z",
     "shell.execute_reply.started": "2025-02-18T11:27:50.931345Z"
    },
    "trusted": true
   },
   "outputs": [
    {
     "data": {
      "text/html": [
       "<a href='download.zip' target='_blank'>download.zip</a><br>"
      ],
      "text/plain": [
       "/kaggle/working/download.zip"
      ]
     },
     "execution_count": 31,
     "metadata": {},
     "output_type": "execute_result"
    }
   ],
   "source": [
    "from IPython.display import FileLink\n",
    "\n",
    "FileLink('download.zip')"
   ]
  }
 ],
 "metadata": {
  "kaggle": {
   "accelerator": "gpu",
   "dataSources": [],
   "dockerImageVersionId": 30887,
   "isGpuEnabled": true,
   "isInternetEnabled": true,
   "language": "python",
   "sourceType": "notebook"
  },
  "kernelspec": {
   "display_name": "Python 3",
   "language": "python",
   "name": "python3"
  },
  "language_info": {
   "codemirror_mode": {
    "name": "ipython",
    "version": 3
   },
   "file_extension": ".py",
   "mimetype": "text/x-python",
   "name": "python",
   "nbconvert_exporter": "python",
   "pygments_lexer": "ipython3",
   "version": "3.10.12"
  }
 },
 "nbformat": 4,
 "nbformat_minor": 4
}
